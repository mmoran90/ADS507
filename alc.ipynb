{
 "cells": [
  {
   "cell_type": "markdown",
   "metadata": {},
   "source": [
    "List the categories, glasses, ingredients or alcoholic filters\n",
    "www.thecocktaildb.com/api/json/v1/1/list.php?c=list\n",
    "www.thecocktaildb.com/api/json/v1/1/list.php?g=list\n",
    "www.thecocktaildb.com/api/json/v1/1/list.php?i=list\n",
    "www.thecocktaildb.com/api/json/v1/1/list.php?a=list\n",
    "\n",
    "Filter by Category [There are 11 categories]\n",
    "www.thecocktaildb.com/api/json/v1/1/filter.php?c=Ordinary_Drink\n",
    "www.thecocktaildb.com/api/json/v1/1/filter.php?c=Cocktail\n",
    "\n",
    "Filter by Glass [There are 32 glasses]\n",
    "www.thecocktaildb.com/api/json/v1/1/filter.php?g=Cocktail_glass\n",
    "www.thecocktaildb.com/api/json/v1/1/filter.php?g=Champagne_flute\n",
    "\n",
    "Filter by ingredient [There are 100 ingredients]\n",
    "www.thecocktaildb.com/api/json/v1/1/filter.php?i=Gin\n",
    "www.thecocktaildb.com/api/json/v1/1/filter.php?i=Vodka\n",
    "\n",
    "Filter by alcoholic [There are 3 alcohol types]\n",
    "www.thecocktaildb.com/api/json/v1/1/filter.php?a=Alcoholic\n",
    "www.thecocktaildb.com/api/json/v1/1/filter.php?a=Non_Alcoholic\n",
    "\n",
    "Search cocktail by name [It's similar to ingredients but more fields]\n",
    "www.thecocktaildb.com/api/json/v1/1/search.php?s=margarita\n",
    "\n",
    "Search cocktails by first letter  [It's similar to ingredients but more fields]\n",
    "www.thecocktaildb.com/api/json/v1/1/search.php?f=a"
   ]
  },
  {
   "cell_type": "code",
   "execution_count": 41,
   "metadata": {},
   "outputs": [],
   "source": [
    "import pandas as pd\n",
    "import mysql.connector\n",
    "import sqlalchemy\n",
    "from sqlalchemy import  text, MetaData\n",
    "import sqlite3\n",
    "import requests\n",
    "import json\n",
    "import seaborn as sns\n",
    "from matplotlib import pyplot as plt\n",
    "\n",
    "# parameter in Azure database/ test\n",
    "userName = 'ravi'\n",
    "userPass = 'Password507'\n",
    "host='sakila-2.mysql.database.azure.com'\n",
    "port=3306\n",
    "database='test'"
   ]
  },
  {
   "cell_type": "code",
   "execution_count": 42,
   "metadata": {},
   "outputs": [
    {
     "data": {
      "text/plain": [
       "'\\nresponse_a_API = requests.get(\"https://www.thecocktaildb.com/api/json/v1/1/search.php?f=a\")\\nresponse_b_API = requests.get(\"https://www.thecocktaildb.com/api/json/v1/1/search.php?f=b\")\\nresponse_c_API = requests.get(\"https://www.thecocktaildb.com/api/json/v1/1/search.php?f=c\")\\n'"
      ]
     },
     "execution_count": 42,
     "metadata": {},
     "output_type": "execute_result"
    }
   ],
   "source": [
    "# list of category(c), glass(g), ingredient(i), alcohol(a)\n",
    "#response_API = requests.get(\"https://www.thecocktaildb.com/api/json/v1/1/list.php?a=list\") \n",
    "\n",
    "#Search cocktails by first letter  [It's similar to ingredients but more fields]\n",
    "\"\"\"\n",
    "response_a_API = requests.get(\"https://www.thecocktaildb.com/api/json/v1/1/search.php?f=a\")\n",
    "response_b_API = requests.get(\"https://www.thecocktaildb.com/api/json/v1/1/search.php?f=b\")\n",
    "response_c_API = requests.get(\"https://www.thecocktaildb.com/api/json/v1/1/search.php?f=c\")\n",
    "\"\"\""
   ]
  },
  {
   "cell_type": "code",
   "execution_count": 43,
   "metadata": {},
   "outputs": [
    {
     "data": {
      "text/plain": [
       "'\\ndata_a = response_a_API.json()\\ndata_b = response_b_API.json()\\ndata_c = response_c_API.json()\\n'"
      ]
     },
     "execution_count": 43,
     "metadata": {},
     "output_type": "execute_result"
    }
   ],
   "source": [
    "# Return parsed JSON data\n",
    "\"\"\"\n",
    "data_a = response_a_API.json()\n",
    "data_b = response_b_API.json()\n",
    "data_c = response_c_API.json()\n",
    "\"\"\"\n",
    "# Convert the combined data to a DataFrame\n",
    "#df = pd.DataFrame(data_a['drinks']+ data_b['drinks']+ data_c['drinks'])\n",
    "\n",
    "# Display the DataFrame\n",
    "#df.head(10)"
   ]
  },
  {
   "cell_type": "code",
   "execution_count": 44,
   "metadata": {},
   "outputs": [
    {
     "data": {
      "text/plain": [
       "'\\ntry:\\n    connection = engine.connect()\\n    print(\"Connection successful!\")\\n    connection.close()\\nexcept Exception as e:\\n    print(f\"Error: {e}\")\\n\\ntest_tables = pd.read_sql_query(\"Show Tables\", engine)\\n\\n# Print the DataFrame\\nprint(test_tables)\\n'"
      ]
     },
     "execution_count": 44,
     "metadata": {},
     "output_type": "execute_result"
    }
   ],
   "source": [
    "# create engine to execute \n",
    "engine = sqlalchemy.create_engine(f\"mysql+mysqlconnector://{userName}:{userPass}@{host}:{port}/{database}\")\n"
   ]
  },
  {
   "cell_type": "code",
   "execution_count": 45,
   "metadata": {},
   "outputs": [],
   "source": [
    "table_name = 'cocktail'\n",
    "\n",
    "# Load DataFrame into Azure MySQL table\n",
    "#df.to_sql(table_name, con=engine, if_exists='replace', index=False)"
   ]
  },
  {
   "cell_type": "code",
   "execution_count": 56,
   "metadata": {},
   "outputs": [
    {
     "name": "stdout",
     "output_type": "stream",
     "text": [
      "User searched for Ingredient: vodka\n",
      "option: Ingredient\n",
      "user_input: vodka\n"
     ]
    }
   ],
   "source": [
    "import tkinter as tk\n",
    "from tkinter import simpledialog\n",
    "\n",
    "global_user_input = None\n",
    "global_option = None\n",
    "\n",
    "def show_popup(option):\n",
    "    global global_user_input, global_option\n",
    "    \n",
    "    # Ask the user for input with a pop-up window\n",
    "    user_input = simpledialog.askstring(\"Input\", f\"Enter {option}:\")\n",
    "    \n",
    "    # Check if the user clicked Cancel or entered a value\n",
    "    if user_input is not None:\n",
    "        result_label.config(text=f\"User searched for {option}: {user_input}\")\n",
    "        global_user_input = user_input\n",
    "        global_option = option\n",
    "        print(f\"User searched for {option}: {user_input}\")\n",
    "        root.destroy()\n",
    "\n",
    "    else:\n",
    "        result_label.config(text=f\"User clicked Cancel for {option}\")\n",
    "\n",
    "# Create the main window\n",
    "root = tk.Tk()\n",
    "root.title(\"Button Selection\")\n",
    "\n",
    "# Create buttons to trigger the pop-up for \"Glass\" and \"Ingredient\"\n",
    "glass_button = tk.Button(root, text=\"Glass\", command=lambda: show_popup(\"Glass\"))\n",
    "glass_button.pack(pady=10)\n",
    "\n",
    "ingredient_button = tk.Button(root, text=\"Ingredient\", command=lambda: show_popup(\"Ingredient\"))\n",
    "ingredient_button.pack(pady=10)\n",
    "\n",
    "# Create a label to display the result\n",
    "result_label = tk.Label(root, text=\"\")\n",
    "result_label.pack()\n",
    "\n",
    "# Start the Tkinter event loop\n",
    "root.mainloop()\n",
    "\n",
    "# Access global_user_input and global_option outside the Tkinter event loop\n",
    "if global_user_input is not None and global_option is not None:\n",
    "    print(\"option:\", global_option)\n",
    "    print(\"user_input:\", global_user_input)\n"
   ]
  },
  {
   "cell_type": "code",
   "execution_count": 57,
   "metadata": {},
   "outputs": [
    {
     "name": "stdout",
     "output_type": "stream",
     "text": [
      "Search count: 7\n"
     ]
    },
    {
     "data": {
      "text/html": [
       "<div>\n",
       "<style scoped>\n",
       "    .dataframe tbody tr th:only-of-type {\n",
       "        vertical-align: middle;\n",
       "    }\n",
       "\n",
       "    .dataframe tbody tr th {\n",
       "        vertical-align: top;\n",
       "    }\n",
       "\n",
       "    .dataframe thead th {\n",
       "        text-align: right;\n",
       "    }\n",
       "</style>\n",
       "<table border=\"1\" class=\"dataframe\">\n",
       "  <thead>\n",
       "    <tr style=\"text-align: right;\">\n",
       "      <th></th>\n",
       "      <th>strDrink</th>\n",
       "      <th>strCategory</th>\n",
       "      <th>strGlass</th>\n",
       "      <th>strAlcoholic</th>\n",
       "      <th>strIngredient1</th>\n",
       "      <th>strIngredient2</th>\n",
       "      <th>strIngredient3</th>\n",
       "      <th>strInstructions</th>\n",
       "    </tr>\n",
       "  </thead>\n",
       "  <tbody>\n",
       "    <tr>\n",
       "      <th>0</th>\n",
       "      <td>AT&amp;T</td>\n",
       "      <td>Ordinary Drink</td>\n",
       "      <td>Highball Glass</td>\n",
       "      <td>Alcoholic</td>\n",
       "      <td>Absolut Vodka</td>\n",
       "      <td>Gin</td>\n",
       "      <td>Tonic water</td>\n",
       "      <td>Pour Vodka and Gin over ice, add Tonic and Stir</td>\n",
       "    </tr>\n",
       "    <tr>\n",
       "      <th>1</th>\n",
       "      <td>Avalon</td>\n",
       "      <td>Ordinary Drink</td>\n",
       "      <td>Highball glass</td>\n",
       "      <td>Alcoholic</td>\n",
       "      <td>Vodka</td>\n",
       "      <td>Pisang Ambon</td>\n",
       "      <td>Apple juice</td>\n",
       "      <td>Fill a tall glass with ice. Layer the Finlandi...</td>\n",
       "    </tr>\n",
       "    <tr>\n",
       "      <th>2</th>\n",
       "      <td>After sex</td>\n",
       "      <td>Ordinary Drink</td>\n",
       "      <td>Highball glass</td>\n",
       "      <td>Alcoholic</td>\n",
       "      <td>Vodka</td>\n",
       "      <td>Creme de Banane</td>\n",
       "      <td>Orange juice</td>\n",
       "      <td>Pour the vodka and creme over some ice cubes i...</td>\n",
       "    </tr>\n",
       "    <tr>\n",
       "      <th>3</th>\n",
       "      <td>Autodafé</td>\n",
       "      <td>Ordinary Drink</td>\n",
       "      <td>Highball glass</td>\n",
       "      <td>Alcoholic</td>\n",
       "      <td>Vodka</td>\n",
       "      <td>Lime juice</td>\n",
       "      <td>Soda water</td>\n",
       "      <td>Mix and fill up with soda water. Drunk by finn...</td>\n",
       "    </tr>\n",
       "    <tr>\n",
       "      <th>4</th>\n",
       "      <td>Brain Fart</td>\n",
       "      <td>Punch / Party Drink</td>\n",
       "      <td>Punch bowl</td>\n",
       "      <td>Alcoholic</td>\n",
       "      <td>Everclear</td>\n",
       "      <td>Vodka</td>\n",
       "      <td>Mountain Dew</td>\n",
       "      <td>Mix all ingredients together. Slowly and gentl...</td>\n",
       "    </tr>\n",
       "    <tr>\n",
       "      <th>5</th>\n",
       "      <td>Bubble Gum</td>\n",
       "      <td>Shot</td>\n",
       "      <td>Shot glass</td>\n",
       "      <td>Alcoholic</td>\n",
       "      <td>Vodka</td>\n",
       "      <td>Banana liqueur</td>\n",
       "      <td>Orange juice</td>\n",
       "      <td>Layer in order into a shot glass.</td>\n",
       "    </tr>\n",
       "    <tr>\n",
       "      <th>6</th>\n",
       "      <td>Cosmopolitan</td>\n",
       "      <td>Cocktail</td>\n",
       "      <td>Cocktail glass</td>\n",
       "      <td>Alcoholic</td>\n",
       "      <td>Vodka</td>\n",
       "      <td>Lime juice</td>\n",
       "      <td>Cointreau</td>\n",
       "      <td>Add all ingredients into cocktail shaker fille...</td>\n",
       "    </tr>\n",
       "  </tbody>\n",
       "</table>\n",
       "</div>"
      ],
      "text/plain": [
       "       strDrink          strCategory        strGlass strAlcoholic  \\\n",
       "0          AT&T       Ordinary Drink  Highball Glass    Alcoholic   \n",
       "1        Avalon       Ordinary Drink  Highball glass    Alcoholic   \n",
       "2     After sex       Ordinary Drink  Highball glass    Alcoholic   \n",
       "3      Autodafé       Ordinary Drink  Highball glass    Alcoholic   \n",
       "4    Brain Fart  Punch / Party Drink      Punch bowl    Alcoholic   \n",
       "5    Bubble Gum                 Shot      Shot glass    Alcoholic   \n",
       "6  Cosmopolitan             Cocktail  Cocktail glass    Alcoholic   \n",
       "\n",
       "  strIngredient1   strIngredient2 strIngredient3  \\\n",
       "0  Absolut Vodka              Gin    Tonic water   \n",
       "1          Vodka     Pisang Ambon    Apple juice   \n",
       "2          Vodka  Creme de Banane   Orange juice   \n",
       "3          Vodka       Lime juice     Soda water   \n",
       "4      Everclear            Vodka   Mountain Dew   \n",
       "5          Vodka   Banana liqueur   Orange juice   \n",
       "6          Vodka       Lime juice      Cointreau   \n",
       "\n",
       "                                     strInstructions  \n",
       "0    Pour Vodka and Gin over ice, add Tonic and Stir  \n",
       "1  Fill a tall glass with ice. Layer the Finlandi...  \n",
       "2  Pour the vodka and creme over some ice cubes i...  \n",
       "3  Mix and fill up with soda water. Drunk by finn...  \n",
       "4  Mix all ingredients together. Slowly and gentl...  \n",
       "5                  Layer in order into a shot glass.  \n",
       "6  Add all ingredients into cocktail shaker fille...  "
      ]
     },
     "execution_count": 57,
     "metadata": {},
     "output_type": "execute_result"
    }
   ],
   "source": [
    "#Query Cocktail Table by Ingridients, Glass, Category, Alcohol\n",
    "if global_option == \"Ingredient\":\n",
    "    count_query = text(f\"\"\"SELECT count(*) FROM cocktail \n",
    "                       WHERE strIngredient1 like '%{global_user_input}%'\n",
    "                        or strIngredient2 like '%{global_user_input}%'\n",
    "                        or strIngredient3 like '%{global_user_input}%'\"\"\")\n",
    "    select_query = text(f\"\"\"SELECT strDrink, strCategory, strGlass, strAlcoholic, \n",
    "                        strIngredient1, strIngredient2, strIngredient3, strInstructions\n",
    "                        FROM cocktail \n",
    "                        WHERE strIngredient1 like '%{global_user_input}%' \n",
    "                        or strIngredient2 like '%{global_user_input}%'\n",
    "                        or strIngredient3 like '%{global_user_input}%'\"\"\")\n",
    "else:\n",
    "    global_user_input = global_user_input+\" glass\"\n",
    "    count_query = text(f\"SELECT count(*) FROM cocktail WHERE strglass = '{global_user_input}'\")\n",
    "    select_query = text(f\"\"\" WHERE strglass = '{global_user_input}'\"\"\")\n",
    "\n",
    "# Execute the SELECT query\n",
    "with engine.connect() as conn:\n",
    "    count = conn.execute(count_query)\n",
    "    count_result = count.scalar()\n",
    "    \n",
    "    result = conn.execute(select_query)\n",
    "    rows = result.fetchall()\n",
    "\n",
    "#Display the result\n",
    "print(f\"Search count: {count_result}\")\n",
    "df_query = pd.DataFrame(rows, columns=result.keys())\n",
    "df_query"
   ]
  },
  {
   "cell_type": "code",
   "execution_count": null,
   "metadata": {},
   "outputs": [],
   "source": [
    "# Marvin's code to create GUI + query\n",
    "import tkinter as tk\n",
    "from tkinter import ttk\n",
    "import sqlalchemy\n",
    "from sqlalchemy import create_engine, text\n",
    "from sqlalchemy import literal_column\n",
    "\n",
    "# Connect to Azure database using SQLAlchemy\n",
    "engine = sqlalchemy.create_engine(f\"mysql+mysqlconnector://{userName}:{userPass}@{host}:{port}/{database}\")\n",
    "\n",
    "# Create GUI\n",
    "class CocktailApp:\n",
    "    def __init__(self, root):\n",
    "        self.root = root\n",
    "        self.root.title(\"Cocktail Search App\")\n",
    "\n",
    "        # Create a frame for the logo\n",
    "        logo_frame = tk.Frame(root)\n",
    "        logo_frame.pack(side='top', fill='x')\n",
    "\n",
    "        # Add a smaller logo to the frame\n",
    "        self.logo_path = 'bar_logo.png'\n",
    "        self.logo = tk.PhotoImage(file=self.logo_path).subsample(4, 5)\n",
    "        logo_label = tk.Label(logo_frame, image=self.logo)\n",
    "        logo_label.pack()\n",
    "\n",
    "        # Create and configure notebook\n",
    "        self.notebook = ttk.Notebook(root)\n",
    "        self.notebook.pack(pady=10)\n",
    "\n",
    "        # Create tabs\n",
    "        self.tabs = {}\n",
    "        for category in ['Ingredient','Alcohol Type', 'Glass', 'Category']:\n",
    "            tab = ttk.Frame(self.notebook)\n",
    "            self.notebook.add(tab, text=category)\n",
    "            self.tabs[category] = tab\n",
    "\n",
    "            # Add entry and search button\n",
    "            ttk.Label(tab, text=f'Enter {category}:').grid(row=0, column=0, padx=10, pady=10, sticky='w')\n",
    "            self.entry_var = tk.StringVar()\n",
    "            ttk.Entry(tab, textvariable=self.entry_var).grid(row=0, column=1, padx=10, pady=10)\n",
    "            ttk.Button(tab, text='Search', command=lambda cat=category: self.search_category(cat)).grid(row=0, column=2, padx=10, pady=10)\n",
    "\n",
    "            # Create treeview for displaying results\n",
    "            columns = ('ID', f'{category}')\n",
    "            self.tree = ttk.Treeview(tab, columns=columns, show='headings')\n",
    "            for col in columns:\n",
    "                self.tree.heading(col, text=col)\n",
    "            self.tree.grid(row=1, column=0, columnspan=3, padx=10, pady=10)\n",
    "            \n",
    "             # Label indicating the category\n",
    "            ttk.Label(tab, text=f'Results for {category}', font=('Helvetica', 12, 'bold')).grid(row=2, column=0, columnspan=3, pady=5)\n",
    "\n",
    "    def search_category(self, category):\n",
    "        # Get the entered value\n",
    "        entered_value = self.entry_var.get()\n",
    "\n",
    "        try:\n",
    "            # Establish a connection\n",
    "            with engine.connect() as connection:\n",
    "                    query = text(f\"\"\"SELECT strDrink, strCategory, strGlass, strAlcoholic, \n",
    "                                  strIngredient1, strIngredient2, strIngredient3, strInstructions\n",
    "                                  FROM cocktail \n",
    "                                  WHERE strIngredient1 LIKE :value\n",
    "                                  OR strIngredient2 LIKE :value\n",
    "                                  OR strIngredient3 LIKE :value\"\"\")\n",
    "\n",
    "                # Execute the query\n",
    "                    result = connection.execute(query, {\"value\": f'%{entered_value}%'}).fetchall()\n",
    "\n",
    "                # Display the results in the treeview\n",
    "                    self.display_results(category, result)\n",
    "\n",
    "        except Exception as e:\n",
    "        # Handle exceptions (e.g., print an error message)\n",
    "            print(f\"Error: {e}\")\n",
    "\n",
    "    def display_results(self, category, result):\n",
    "        # Clear previous results\n",
    "        for item in self.tree.get_children():\n",
    "            self.tree.delete(item)\n",
    "\n",
    "        # Insert new results into the treeview\n",
    "        for row in result:\n",
    "            self.tree.insert('', 'end', values=row)\n",
    "\n",
    "if __name__ == \"__main__\":\n",
    "    root = tk.Tk()\n",
    "    app = CocktailApp(root)\n",
    "    root.mainloop()"
   ]
  },
  {
   "cell_type": "code",
   "execution_count": 58,
   "metadata": {},
   "outputs": [
    {
     "name": "stdout",
     "output_type": "stream",
     "text": [
      "SELECT count(*) as count, strCategory\n",
      "                        FROM cocktail\n",
      "                        WHERE strIngredient1 like '%vodka%' \n",
      "                        or strIngredient2 like '%vodka%'\n",
      "                        or strIngredient3 like '%vodka%'\n",
      "                        GROUP BY strCategory\n"
     ]
    },
    {
     "data": {
      "text/html": [
       "<div>\n",
       "<style scoped>\n",
       "    .dataframe tbody tr th:only-of-type {\n",
       "        vertical-align: middle;\n",
       "    }\n",
       "\n",
       "    .dataframe tbody tr th {\n",
       "        vertical-align: top;\n",
       "    }\n",
       "\n",
       "    .dataframe thead th {\n",
       "        text-align: right;\n",
       "    }\n",
       "</style>\n",
       "<table border=\"1\" class=\"dataframe\">\n",
       "  <thead>\n",
       "    <tr style=\"text-align: right;\">\n",
       "      <th></th>\n",
       "      <th>count</th>\n",
       "      <th>strCategory</th>\n",
       "    </tr>\n",
       "  </thead>\n",
       "  <tbody>\n",
       "    <tr>\n",
       "      <th>0</th>\n",
       "      <td>4</td>\n",
       "      <td>Ordinary Drink</td>\n",
       "    </tr>\n",
       "    <tr>\n",
       "      <th>1</th>\n",
       "      <td>1</td>\n",
       "      <td>Punch / Party Drink</td>\n",
       "    </tr>\n",
       "    <tr>\n",
       "      <th>2</th>\n",
       "      <td>1</td>\n",
       "      <td>Shot</td>\n",
       "    </tr>\n",
       "    <tr>\n",
       "      <th>3</th>\n",
       "      <td>1</td>\n",
       "      <td>Cocktail</td>\n",
       "    </tr>\n",
       "  </tbody>\n",
       "</table>\n",
       "</div>"
      ],
      "text/plain": [
       "   count          strCategory\n",
       "0      4       Ordinary Drink\n",
       "1      1  Punch / Party Drink\n",
       "2      1                 Shot\n",
       "3      1             Cocktail"
      ]
     },
     "execution_count": 58,
     "metadata": {},
     "output_type": "execute_result"
    }
   ],
   "source": [
    "global_user_input\n",
    "# create view from the result in where ingredient in a  and count it in query.. plot it\n",
    "plot_query = text(f\"\"\"SELECT count(*) as count, strCategory\n",
    "                        FROM cocktail\n",
    "                        WHERE strIngredient1 like '%{global_user_input}%' \n",
    "                        or strIngredient2 like '%{global_user_input}%'\n",
    "                        or strIngredient3 like '%{global_user_input}%'\n",
    "                        GROUP BY strCategory\"\"\")\n",
    "print(plot_query)\n",
    "with engine.connect() as conn:\n",
    "    result = conn.execute(plot_query)\n",
    "    rows = result.fetchall()\n",
    "\n",
    "#Display the result\n",
    "df_query = pd.DataFrame(rows, columns=result.keys())\n",
    "df_query"
   ]
  },
  {
   "cell_type": "code",
   "execution_count": 59,
   "metadata": {},
   "outputs": [
    {
     "data": {
      "image/png": "[encoded data removed]",
      "text/plain": [
       "<Figure size 1200x800 with 1 Axes>"
      ]
     },
     "metadata": {},
     "output_type": "display_data"
    }
   ],
   "source": [
    "# Plotting the bar chart\n",
    "plt.figure(figsize=(12, 8))\n",
    "# Pivot the DataFrame to prepare for grouped bar chart\n",
    "plt.bar(df_query['strCategory'], df_query['count'], color='skyblue')\n",
    "plt.xlabel('Category')\n",
    "plt.ylabel('Count')\n",
    "plt.title('Category Count Plot')\n",
    "plt.show()"
   ]
  },
  {
   "cell_type": "code",
   "execution_count": 50,
   "metadata": {},
   "outputs": [
    {
     "data": {
      "text/plain": [
       "'# Close the conn, engine\\nconn.close()\\nengine.dispose()'"
      ]
     },
     "execution_count": 50,
     "metadata": {},
     "output_type": "execute_result"
    }
   ],
   "source": [
    "# Close the conn, engine\n",
    "conn.close()\n",
    "engine.dispose()"
   ]
  }
 ],
 "metadata": {
  "kernelspec": {
   "display_name": "tf15",
   "language": "python",
   "name": "tf15"
  },
  "language_info": {
   "codemirror_mode": {
    "name": "ipython",
    "version": 3
   },
   "file_extension": ".py",
   "mimetype": "text/x-python",
   "name": "python",
   "nbconvert_exporter": "python",
   "pygments_lexer": "ipython3",
   "version": "3.10.12"
  }
 },
 "nbformat": 4,
 "nbformat_minor": 2
}
